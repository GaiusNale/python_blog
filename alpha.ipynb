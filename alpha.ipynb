{
 "cells": [
  {
   "cell_type": "code",
   "execution_count": 4,
   "metadata": {},
   "outputs": [
    {
     "ename": "ModuleNotFoundError",
     "evalue": "No module named 'markdown'",
     "output_type": "error",
     "traceback": [
      "\u001b[1;31m---------------------------------------------------------------------------\u001b[0m",
      "\u001b[1;31mModuleNotFoundError\u001b[0m                       Traceback (most recent call last)",
      "Cell \u001b[1;32mIn[4], line 2\u001b[0m\n\u001b[0;32m      1\u001b[0m \u001b[38;5;28;01mimport\u001b[39;00m \u001b[38;5;21;01mos\u001b[39;00m\n\u001b[1;32m----> 2\u001b[0m \u001b[38;5;28;01mimport\u001b[39;00m \u001b[38;5;21;01mmarkdown\u001b[39;00m\n",
      "\u001b[1;31mModuleNotFoundError\u001b[0m: No module named 'markdown'"
     ]
    }
   ],
   "source": [
    "import os\n",
    "import markdown"
   ]
  },
  {
   "cell_type": "code",
   "execution_count": null,
   "metadata": {},
   "outputs": [],
   "source": [
    "ARTICLES_DIR = \"articles\"\n",
    "DRAFTS_DIR = \"drafts\""
   ]
  },
  {
   "cell_type": "code",
   "execution_count": null,
   "metadata": {},
   "outputs": [],
   "source": [
    "os.makedirs(ARTICLES_DIR, exist_ok=True)\n",
    "os.makedirs(DRAFTS_DIR, exist_ok=True)"
   ]
  },
  {
   "cell_type": "code",
   "execution_count": null,
   "metadata": {},
   "outputs": [],
   "source": [
    "def list_articles():\n",
    "    \"\"\"List Existing Articles.\"\"\"\n",
    "    articles = os.listdir(ARTICLES_DIR)\n",
    "    print (\"Existing Articles: \")\n",
    "    for index, article in enumerate(articles, start = 1):\n",
    "        print(f\"{index}. {article}\")"
   ]
  },
  {
   "cell_type": "code",
   "execution_count": null,
   "metadata": {},
   "outputs": [],
   "source": [
    "def create_article():\n",
    "    \"\"\"Create a New Article.\"\"\"\n",
    "    title = input(\"Enter the title: \")\n",
    "    content = input(\"Enter the content: \")\n",
    "    file_name = os.path.join(ARTICLES_DIR, title + \".txt\")\n",
    "    with open (file_name, \"w\") as file:\n",
    "        file.write(content)\n",
    "    print (f\"Article '{title}' created sucessfullly\")"
   ]
  },
  {
   "cell_type": "code",
   "execution_count": null,
   "metadata": {},
   "outputs": [],
   "source": [
    "def read_article():\n",
    "    \"\"\"Read an Exixting Article.\"\"\"\n",
    "    list_articles()\n",
    "    choice = int(input(\"Enter the article number you wish to read: \"))\n",
    "    articles = os.listdir(ARTICLES_DIR)\n",
    "    if 1 <= choice <= len(articles):\n",
    "        file_name = os.path.join(ARTICLES_DIR, articles [choice - 1])\n",
    "        with open (file_name, \"r\") as file:\n",
    "            content = file.read()\n",
    "            print(content)\n",
    "    else:\n",
    "        print (\"Invalid Choice\")"
   ]
  },
  {
   "cell_type": "code",
   "execution_count": null,
   "metadata": {},
   "outputs": [],
   "source": [
    "def update_article():\n",
    "    \"\"\"Update an existing article.\"\"\"\n",
    "    list_articles()\n",
    "    choice = int(input(\"Enter the article you wish to update: \"))\n",
    "    articles = os.listdir (ARTICLES_DIR)\n",
    "    if 1 <= choice <= len(articles):\n",
    "        file_name = os.path.join(ARTICLES_DIR, articles [choice - 1])\n",
    "        with open (file_name, \"r\") as file:\n",
    "            content = file.read()\n",
    "        print (f\"Current content:\\n {content}\")\n",
    "        new_content = input(\"Enter the updated content: \")\n",
    "        with open(file_name, \"w\") as file:\n",
    "            file.write(new_content)\n",
    "        print (f\"Artilce updated successfully\")\n",
    "    else:\n",
    "        print (\"Invalid choice.\")\n",
    " "
   ]
  },
  {
   "cell_type": "code",
   "execution_count": null,
   "metadata": {},
   "outputs": [],
   "source": [
    "def delete_article():\n",
    "    \"\"\"Delete an existing article.\"\"\"\n",
    "    list_articles()\n",
    "    choice = int(input(\"Enter the article number you wish to delete: \"))\n",
    "    articles = os.listdir(ARTICLES_DIR)\n",
    "    if 1 <= choice <= len(articles):\n",
    "        file_name = os.path.join(ARTICLES_DIR, articles[choice - 1])\n",
    "        os.remove(file_name)\n",
    "        print(f\"Article deleted successfully!\")\n",
    "    else:\n",
    "        print(\"Invalid Choice\")"
   ]
  },
  {
   "cell_type": "code",
   "execution_count": null,
   "metadata": {},
   "outputs": [],
   "source": [
    "while True:\n",
    "    print (\"\\nMenu:\")\n",
    "    print (\"1. List Articles\")\n",
    "    print (\"2. Create Article\")\n",
    "    print (\"3. Read Article\")\n",
    "    print (\"4. Update Article\")\n",
    "    print (\"5. Delete Article\")\n",
    "    print (\"0. Exit\")\n",
    "    choice = input(\"Enter your choice: \")\n",
    "\n",
    "    if choice == \"1\":\n",
    "        list_articles()\n",
    "    elif choice == \"2\":\n",
    "        create_article()\n",
    "    elif choice == \"3\":\n",
    "        read_article()\n",
    "    elif choice == \"4\":\n",
    "        update_article()\n",
    "    elif choice == \"5\":\n",
    "        delete_article()\n",
    "    elif choice == \"0\":\n",
    "        break\n",
    "    else:\n",
    "        print (\"Invalid choice. Please select a valid option.\")"
   ]
  }
 ],
 "metadata": {
  "kernelspec": {
   "display_name": "Python 3",
   "language": "python",
   "name": "python3"
  },
  "language_info": {
   "codemirror_mode": {
    "name": "ipython",
    "version": 3
   },
   "file_extension": ".py",
   "mimetype": "text/x-python",
   "name": "python",
   "nbconvert_exporter": "python",
   "pygments_lexer": "ipython3",
   "version": "3.12.1"
  },
  "orig_nbformat": 4
 },
 "nbformat": 4,
 "nbformat_minor": 2
}
