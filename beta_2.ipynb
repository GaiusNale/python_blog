{
 "cells": [
  {
   "cell_type": "code",
   "execution_count": 1,
   "metadata": {},
   "outputs": [],
   "source": [
    "import os\n",
    "import tkinter as tk\n",
    "from tkinter import messagebox\n",
    "from tkinter import scrolledtext"
   ]
  },
  {
   "cell_type": "code",
   "execution_count": 2,
   "metadata": {},
   "outputs": [],
   "source": [
    "ARTICLES_DIR = \"articles\"\n",
    "DRAFTS_DIR = \"drafts\"\n",
    "\n",
    "os.makedirs(ARTICLES_DIR, exist_ok=True)\n",
    "os.makedirs(DRAFTS_DIR, exist_ok=True)\n"
   ]
  },
  {
   "cell_type": "code",
   "execution_count": 3,
   "metadata": {},
   "outputs": [],
   "source": [
    "def list_articles():\n",
    "    articles_list.delete(0, tk.END)\n",
    "    articles = os.listdir(ARTICLES_DIR)\n",
    "    for article in articles:\n",
    "        articles_list.insert(tk.END, article)\n"
   ]
  },
  {
   "cell_type": "code",
   "execution_count": 4,
   "metadata": {},
   "outputs": [],
   "source": [
    "def create_article():\n",
    "    title = title_entry.get()\n",
    "    content = content_text.get(\"1.0\", tk.END)\n",
    "    if title and content:\n",
    "        file_name = os.path.join(ARTICLES_DIR, title + \".txt\")\n",
    "        with open(file_name, \"w\") as file:\n",
    "            file.write(content)\n",
    "        title_entry.delete(0, tk.END)\n",
    "        content_text.delete(\"1.0\", tk.END)\n",
    "        messagebox.showinfo(\"Success\", \"Article created successfully!\")\n",
    "    else:\n",
    "        messagebox.showerror(\"Error\", \"Title and content are required.\")"
   ]
  },
  {
   "cell_type": "code",
   "execution_count": 5,
   "metadata": {},
   "outputs": [],
   "source": [
    "def read_article():\n",
    "    selected_article = articles_list.get(articles_list.curselection())\n",
    "    if selected_article:\n",
    "        file_name = os.path.join(ARTICLES_DIR, selected_article)\n",
    "        with open(file_name, \"r\") as file:\n",
    "            content = file.read()\n",
    "            article_display.delete(\"1.0\", tk.END)\n",
    "            article_display.insert(tk.END, content)\n",
    "    else:\n",
    "        messagebox.showerror(\"Error\", \"Select an article to read.\")"
   ]
  },
  {
   "cell_type": "code",
   "execution_count": 6,
   "metadata": {},
   "outputs": [
    {
     "data": {
      "text/plain": [
       "''"
      ]
     },
     "execution_count": 6,
     "metadata": {},
     "output_type": "execute_result"
    }
   ],
   "source": [
    "root = tk.Tk()\n",
    "root.title(\"Personal Blog\")"
   ]
  },
  {
   "cell_type": "code",
   "execution_count": 7,
   "metadata": {},
   "outputs": [],
   "source": [
    "articles_list = tk.Listbox(root, width=30, height=10)\n",
    "articles_list.grid(row=0, column=0, padx=10, pady=10)"
   ]
  },
  {
   "cell_type": "code",
   "execution_count": 8,
   "metadata": {},
   "outputs": [],
   "source": [
    "article_display = scrolledtext.ScrolledText(root, wrap=tk.WORD, width=40, height=10)\n",
    "article_display.grid(row=0, column=1, padx=10, pady=10)"
   ]
  },
  {
   "cell_type": "code",
   "execution_count": 9,
   "metadata": {},
   "outputs": [],
   "source": [
    "title_label = tk.Label(root, text=\"Title:\")\n",
    "title_label.grid(row=1, column=0, padx=10, pady=5)\n",
    "title_entry = tk.Entry(root)\n",
    "title_entry.grid(row=1, column=1, padx=10, pady=5)\n",
    "content_label = tk.Label(root, text=\"Content:\")\n",
    "content_label.grid(row=2, column=0, padx=10, pady=5)\n",
    "content_text = tk.Text(root, wrap=tk.WORD, width=40, height=5)\n",
    "content_text.grid(row=2, column=1, padx=10, pady=5)"
   ]
  },
  {
   "cell_type": "code",
   "execution_count": 10,
   "metadata": {},
   "outputs": [],
   "source": [
    "list_button = tk.Button(root, text=\"List Articles\", command=list_articles)\n",
    "list_button.grid(row=3, column=0, padx=10, pady=5)\n",
    "read_button = tk.Button(root, text=\"Read Article\", command=read_article)\n",
    "read_button.grid(row=3, column=1, padx=10, pady=5)\n",
    "create_button = tk.Button(root, text=\"Create Article\", command=create_article)\n",
    "create_button.grid(row=4, column=1, padx=10, pady=5)\n"
   ]
  },
  {
   "cell_type": "code",
   "execution_count": 11,
   "metadata": {},
   "outputs": [],
   "source": [
    "root.mainloop()"
   ]
  },
  {
   "cell_type": "code",
   "execution_count": null,
   "metadata": {},
   "outputs": [],
   "source": []
  }
 ],
 "metadata": {
  "kernelspec": {
   "display_name": "Python 3",
   "language": "python",
   "name": "python3"
  },
  "language_info": {
   "codemirror_mode": {
    "name": "ipython",
    "version": 3
   },
   "file_extension": ".py",
   "mimetype": "text/x-python",
   "name": "python",
   "nbconvert_exporter": "python",
   "pygments_lexer": "ipython3",
   "version": "3.12.1"
  },
  "orig_nbformat": 4
 },
 "nbformat": 4,
 "nbformat_minor": 2
}
